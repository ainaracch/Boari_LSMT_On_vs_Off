{
 "cells": [
  {
   "cell_type": "markdown",
   "id": "0989349d-b085-49f5-9cdd-acb21f529fe1",
   "metadata": {},
   "source": [
    "## Get independent csv files for the linear and angular kinematics. \n",
    "    \n",
    "- The shape of the csv will be one trial after another, not in order of trials nor participants. The first row of each trial will contain the information regarding the subject_number, trial_number and state (\"on\", \"off\")\n",
    "- Input: output_kinematics_dataframe.csv\n",
    "- Outputs:\n",
    "  - linear_kinematics_csv.csv\n",
    "  - angular_kinematics_csv.csv"
   ]
  },
  {
   "cell_type": "code",
   "execution_count": 2,
   "id": "012c8bfb-b2e4-44f9-a88f-7d644c22a66e",
   "metadata": {},
   "outputs": [],
   "source": [
    "%matplotlib inline"
   ]
  },
  {
   "cell_type": "code",
   "execution_count": null,
   "id": "484b1816-d3b8-483b-9fcb-37b7d90a24eb",
   "metadata": {},
   "outputs": [],
   "source": [
    "# https://github.com/nrg-projects/sara-on-off-boari/blob/main/classification_kinematics.ipynb"
   ]
  },
  {
   "cell_type": "code",
   "execution_count": null,
   "id": "054d4ad1-69f2-424d-9d77-f1c1cdcde19a",
   "metadata": {},
   "outputs": [],
   "source": [
    "import pandas as pd\n",
    "import plotly.express as px\n",
    "import seaborn as sns\n",
    "import matplotlib.pyplot as plt\n",
    "from scipy.stats import zscore\n",
    "import numpy as np\n",
    "from sklearn.svm import SVC\n",
    "from sklearn.experimental import enable_halving_search_cv\n",
    "from sklearn.model_selection import LeaveOneGroupOut, HalvingGridSearchCV\n",
    "from sklearn.metrics import accuracy_score, roc_curve, roc_auc_score, confusion_matrix, ConfusionMatrixDisplay\n",
    "from sklearn.inspection import permutation_importance\n",
    "from sklearn.preprocessing import LabelEncoder\n",
    "from sklearn.ensemble import GradientBoostingClassifier\n",
    "import xgboost as xgb\n",
    "from sklearn.preprocessing import StandardScaler\n",
    "from sklearn.metrics import classification_report\n",
    "from IPython.display import display\n",
    "from numpy import ravel"
   ]
  },
  {
   "cell_type": "code",
   "execution_count": null,
   "id": "67745787-2a2a-4a15-949b-e4cb63641c14",
   "metadata": {},
   "outputs": [],
   "source": [
    "df = pd.read_csv('output_kinematics_dataframe.csv',index_col=0).convert_dtypes()\n",
    "df.head(20)"
   ]
  },
  {
   "cell_type": "markdown",
   "id": "b88dc6fe-cf78-4da9-936f-3334042ac9cd",
   "metadata": {},
   "source": [
    "### Missing values\n",
    "\n",
    "- Identify the indexes with missing values\n",
    "- Print the subject number, state and trial of this missing data\n",
    "- Drop these rows and reset indexes\n",
    "\n"
   ]
  },
  {
   "cell_type": "code",
   "execution_count": null,
   "id": "14a22dff-003c-4b91-af42-7271646f0b9b",
   "metadata": {},
   "outputs": [],
   "source": [
    "missing_rows = df.isnull().sum(axis=1)\n",
    "missing_rows_filtered = missing_rows[missing_rows != 0]\n",
    "print(missing_rows_filtered.index)"
   ]
  },
  {
   "cell_type": "code",
   "execution_count": null,
   "id": "7dce97ca-5903-4c2e-be35-78e7452020f0",
   "metadata": {},
   "outputs": [],
   "source": [
    "import pandas as pd\n",
    "import pathlib as path\n",
    "import numpy as np\n",
    "import warnings\n",
    "import re\n",
    "import xlrd"
   ]
  },
  {
   "cell_type": "code",
   "execution_count": null,
   "id": "9ff9bfaa-5cc5-43ef-a188-4abd78f1e976",
   "metadata": {},
   "outputs": [],
   "source": [
    "warnings.simplefilter(action='ignore', category=FutureWarning)"
   ]
  },
  {
   "cell_type": "code",
   "execution_count": null,
   "id": "5edae5c6-74e8-4b5f-b868-a06fadf68d55",
   "metadata": {},
   "outputs": [],
   "source": [
    "root_folder = path.Path('C3Dfiles')"
   ]
  },
  {
   "cell_type": "code",
   "execution_count": null,
   "id": "e4899e7d-a265-4880-a33e-f9eae1c577d3",
   "metadata": {},
   "outputs": [],
   "source": [
    "angles_header = ['Trunk_Lateral_Flexion', 'Trunk_Rotation', 'Trunk_Flx/Extension',\n",
    "                'Left_Shoulder_Add/Abduction', 'Left_Shoulder_Int/External_Rotation', 'Left_Shoulder_Flx/Extension',\n",
    "                'Right_Shoulder_Add/Abduction', 'Right_Shoulder_Int/External_Rotation', 'Right_Shoulder_Flx/Extension',\n",
    "                'Left_Elbow_Add/Abduction', 'Left_Elbow_Pron/Supination', 'Left_Elbow_Flx/Extension',\n",
    "                'Right_Elbow_Add/Abduction', 'Right_Elbow_Pron/Supination', 'Right_Elbow_Flx/Extension',\n",
    "                'Left_Pelvic_Obliquity', 'Left_Pelvic_Rotation', 'Left_Pelvic_Tilt',\n",
    "                'Right_Pelvic_Obliquity', 'Right_Pelvic_Rotation', 'Right_Pelvic_Tilt',\n",
    "                'Left_Hip_Add/Abduction', 'Left_Hip_Int/External_Rotation', 'Left_Hip_Flexion/Extension',\n",
    "                'Right_Hip_Add/Abduction', 'Right_Hip_Int/External_Rotation', 'Right_Hip_Flexion/Extension',\n",
    "                'Left_Knee_Add/Abduction', 'Left_Knee_Int/External_Rotation', 'Left_Knee_Flx/Extension',\n",
    "                'Right_Knee_Add/Abduction', 'Right_Knee_Int/External_Rotation', 'Right_Knee_Flx/Extension',\n",
    "                'Left_Ankle_Inv/Eversion', 'Left_Ankle_Add/Abduction', 'Left_Ankle_Dorsi/Plantarflexion',\n",
    "                'Right_Ankle_Inv/Eversion', 'Right_Ankle_Add/Abduction', 'Right_Ankle_Dorsi/Plantarflexion',\n",
    "                'Left_Foot_Inv/Eversion', 'Left_Foot_Int/External_Rotation', 'Left_Foot_DF/Plantarflexion',\n",
    "                'Right_Foot_Inv/Eversion', 'Right_Foot_Int/External_Rotation', 'Right_Foot_DF/Plantarflexion']\n",
    "\n",
    "# Replace spaces and slashes with underscores in angles_header\n",
    "angles_header = [header.replace(' ', '_').replace('/', '_') for header in angles_header]"
   ]
  },
  {
   "cell_type": "code",
   "execution_count": null,
   "id": "5ca3f3f2-c62e-46e3-9b87-cfea3bd43726",
   "metadata": {},
   "outputs": [],
   "source": [
    "trajectories_header = ['CoM_AP', 'CoM_Vertical', 'CoM_ML', 'CLAV_AP', 'CLAV_Vertical', 'CLAV_ML', 'STRN_AP', \n",
    "                       'STRN_Vertical', 'STRN_ML', 'C7_AP', 'C7_Vertical', 'C7_ML', 'T10_AP', 'T10_Vertical',\n",
    "                       'T10_ML', 'RSHO_AP', 'RSHO_Vertical', 'RSHO_ML', 'LSHO_AP', 'LSHO_Vertical', 'LSHO_ML',\n",
    "                       'RUPA_AP', 'RUPA_Vertical', 'RUPA_ML', 'REL_AP', 'REL_Vertical', 'REL_ML', 'REM_AP',\n",
    "                       'REM_Vertical', 'REM_ML', 'RFRA_AP', 'RFRA_Vertical', 'RFRA_ML', 'RWL_AP', 'RWL_Vertical',\n",
    "                       'RWL_ML', 'RWM_AP', 'RWM_Vertical', 'RWM_ML', 'LUPA_AP', 'LUPA_Vertical', 'LUPA_ML', 'LEL_AP',\n",
    "                       'LEL_Vertical', 'LEL_ML', 'LEM_AP', 'LEM_Vertical', 'LEM_ML', 'LFRA_AP', 'LFRA_Vertical',\n",
    "                       'LFRA_ML', 'LWL_AP', 'LWL_Vertical', 'LWL_ML', 'LWM_AP', 'LWM_Vertical', 'LWM_ML', 'R.ASIS_AP',\n",
    "                       'R.ASIS_Vertical', 'R.ASIS_ML', 'L.ASIS_AP', 'L.ASIS_Vertical', 'L.ASIS_ML', 'R.PSIS_AP',\n",
    "                       'R.PSIS_Vertical', 'R.PSIS_ML', 'L.PSIS_AP', 'L.PSIS_Vertical', 'L.PSIS_ML', 'R.GTR_AP',\n",
    "                       'R.GTR_Vertical', 'R.GTR_ML', 'R.Knee_AP', 'R.Knee_Vertical', 'R.Knee_ML', 'R.HF_AP', \n",
    "                       'R.HF_Vertical', 'R.HF_ML', 'R.TT_AP', 'R.TT_Vertical', 'R.TT_ML', 'R.Ankle_AP',\n",
    "                       'R.Ankle_Vertical', 'R.Ankle_ML', 'R.Heel_AP', 'R.Heel_Vertical', 'R.Heel_ML', 'R.MT1_AP',\n",
    "                       'R.MT1_Vertical', 'R.MT1_ML', 'R.MT5_AP', 'R.MT5_Vertical', 'R.MT5_ML', 'L.GTR_AP',\n",
    "                       'L.GTR_Vertical', 'L.GTR_ML', 'L.Knee_AP', 'L.Knee_Vertical', 'L.Knee_ML', 'L.HF_AP',\n",
    "                       'L.HF_Vertical', 'L.HF_ML', 'L.TT_AP', 'L.TT_Vertical', 'L.TT_ML', 'L.Ankle_AP', \n",
    "                       'L.Ankle_Vertical', 'L.Ankle_ML', 'L.Heel_AP', 'L.Heel_Vertical', 'L.Heel_ML', 'L.MT1_AP',\n",
    "                       'L.MT1_Vertical', 'L.MT1_ML', 'L.MT5_AP', 'L.MT5_Vertical', 'L.MT5_ML', 'R.Knee.Medial_AP',\n",
    "                       'R.Knee.Medial_Vertical', 'R.Knee.Medial_ML', 'R.Ankle.Medial_AP', 'R.Ankle.Medial_Vertical',\n",
    "                       'R.Ankle.Medial_ML', 'R.MT2_AP', 'R.MT2_Vertical', 'R.MT2_ML', 'L.Knee.Medial_AP',\n",
    "                       'L.Knee.Medial_Vertical', 'L.Knee.Medial_ML', 'L.Ankle.Medial_AP', 'L.Ankle.Medial_Vertical',\n",
    "                       'L.Ankle.Medial_ML', 'L.MT2_AP', 'L.MT2_Vertical', 'L.MT2_ML']\n",
    "\n",
    "# Replace spaces and slashes with underscores in trajectories_header\n",
    "trajectories_header = [trajectory.replace(' ', '_').replace('/', '_') for trajectory in trajectories_header]"
   ]
  },
  {
   "cell_type": "code",
   "execution_count": null,
   "id": "78eb4f2a-1545-4867-a5a6-b987352a2d94",
   "metadata": {},
   "outputs": [],
   "source": [
    "df_angles = pd.DataFrame()\n",
    "df_spatiotemporal = pd.DataFrame()\n",
    "df_trajectories = pd.DataFrame()"
   ]
  },
  {
   "cell_type": "markdown",
   "id": "b6c5822f-c32a-4aea-90d6-a4e1f093f102",
   "metadata": {},
   "source": [
    "# Linear kinematics: Read the data and turn in into a csv"
   ]
  },
  {
   "cell_type": "code",
   "execution_count": null,
   "id": "4c2b465f-cb81-4d79-90e5-0d64fcd98413",
   "metadata": {},
   "outputs": [],
   "source": [
    "# Load all folders\n",
    "for subject in root_folder.glob('**/*'):\n",
    "    \n",
    "    #string with subject number\n",
    "    subject_str = str(subject)\n",
    "    \n",
    "    # ignore files, consider just directories\n",
    "    if subject.is_dir() and \"SUB\" in subject_str:\n",
    "        \n",
    "        # save strings of subject number and condition and load this data as columns of a new dataframe\n",
    "        # this dataframe will not be relevant, itself, is just used as an organizing tool\n",
    "        subject_number = int(subject_str[subject_str.find(\"SUB\") + 3 : subject_str.find(\"SUB\") + 5])\n",
    "        condition = [subject_str[subject_str.find(\"SUB\") + 6 :]]\n",
    "        df_num_state = pd.DataFrame({'subject_number':subject_number, 'state':condition})\n",
    "       \n",
    "\n",
    "        \n",
    "\n",
    "\n",
    "        # Repeat process for spatiotemporal parameters\n",
    "        for csv_spatiotemporal in subject.glob('**/*_temporal_distance.txt'):\n",
    "\n",
    "            # just like before we save the number of the trial in another dataframe\n",
    "            trial_str = str(csv_spatiotemporal)\n",
    "            trial_number = int(trial_str[trial_str.find(\"_walk_\") + 6 : trial_str.find(\"_temporal_distance\")])\n",
    "            df_trial_num = pd.Series(trial_number, name='trial_number')\n",
    "\n",
    "            # read the trajectories csv seting the correct separator. \n",
    "            # Drop unuseful columns. Fix format. Reset index after. \n",
    "            csv_spat = pd.read_csv(csv_spatiotemporal, sep = '\\t')\n",
    "            csv_spat.drop([1, 2, 3], inplace=True)\n",
    "            csv_spat.drop(csv_spat.columns[[0]], axis = 1, inplace = True)\n",
    "            csv_spat.reset_index(drop=True, inplace=True)\n",
    "            csv_spat.columns = csv_spat.iloc[0].str.lower()\n",
    "            csv_spat = csv_spat[1:].reset_index(drop=True)\n",
    "\n",
    "            # concatenate the three created databases: subject number, state, trial and spatiotemporal parameters\n",
    "            # the name of this database is df_spatiotemporal\n",
    "            df_spat = pd.concat([df_num_state, df_trial_num, csv_spat], axis=1)\n",
    "            df_spatiotemporal = pd.concat([df_spatiotemporal, df_spat], ignore_index=True)\n",
    "\n",
    "\n",
    "\n",
    "\n",
    "        \n",
    "        for csv_trajectories in subject.glob('**/*_linear_kinematics.csv'):\n",
    "            print(csv_trajectories)\n",
    "                # just like before we save the number of the trial in another dataframe\n",
    "            trial_str = str(csv_trajectories)\n",
    "            trial_number = int(trial_str[trial_str.find(\"_walk_\") + 6 : trial_str.find(\"_linear_kinematics\")])\n",
    "            df_trial_num = pd.Series(trial_number, name='trial_number')\n",
    "        \n",
    "            #read file and delete three first rows (missing info) and the fourth (units).\n",
    "            csv_traj = pd.read_excel(csv_trajectories, engine='xlrd')\n",
    "            csv_traj.drop([0, 1, 2, 3, 4], inplace=True)\n",
    "        \n",
    "            #delete time and frame columns\n",
    "            csv_traj.drop(csv_traj.columns[[0, 1]], axis = 1, inplace = True)\n",
    "        \n",
    "            #set first row as dataframe header\n",
    "            #set all headers to lower letters\n",
    "            csv_traj = csv_traj[0:]\n",
    "            csv_traj.columns = trajectories_header\n",
    "            csv_traj.columns = csv_traj.columns.str.lower()\n",
    "            csv_traj.reset_index(drop=True, inplace=True)\n",
    "        \n",
    "            #calculate range of motion for each joint and set values as a df\n",
    "            #rom = csv_traj.max() - csv_traj.min()\n",
    "            #df_rom = pd.DataFrame([rom.values], columns=csv_traj.columns)\n",
    "        \n",
    "            # concatenate subject number, state and roms\n",
    "            #df_trial = pd.concat([df_num_state, df_trial_num, df_rom], axis=1)\n",
    "            df_trial = pd.concat([df_num_state, df_trial_num, csv_traj], axis=1)\n",
    "            df_trajectories = pd.concat([df_trajectories, df_trial], ignore_index=True)\n",
    "            "
   ]
  },
  {
   "cell_type": "code",
   "execution_count": null,
   "id": "55255c11-2d2e-4dfc-a2c5-7c4b880856e4",
   "metadata": {},
   "outputs": [],
   "source": [
    "df_trajectories.shape"
   ]
  },
  {
   "cell_type": "code",
   "execution_count": null,
   "id": "5d247e6d-af0b-407b-8c95-136d075c9cf5",
   "metadata": {},
   "outputs": [],
   "source": [
    "df_trajectories.to_csv('linear_kinematics_csv.csv', index=True)"
   ]
  },
  {
   "cell_type": "markdown",
   "id": "3ed64755-8117-4014-9c71-b6266954e012",
   "metadata": {},
   "source": [
    "## Angular kinematics"
   ]
  },
  {
   "cell_type": "code",
   "execution_count": null,
   "id": "d9006f75-860d-4e95-803d-f1ae32bd60bb",
   "metadata": {},
   "outputs": [],
   "source": [
    "# Load all folders\n",
    "for subject in root_folder.glob('**/*'):\n",
    "    \n",
    "    #string with subject number\n",
    "    subject_str = str(subject)\n",
    "    \n",
    "    # ignore files, consider just directories\n",
    "    if subject.is_dir() and \"SUB\" in subject_str:\n",
    "        \n",
    "        # save strings of subject number and condition and load this data as columns of a new dataframe\n",
    "        # this dataframe will not be relevant, itself, is just used as an organizing tool\n",
    "        subject_number = int(subject_str[subject_str.find(\"SUB\") + 3 : subject_str.find(\"SUB\") + 5])\n",
    "        condition = [subject_str[subject_str.find(\"SUB\") + 6 :]]\n",
    "        df_num_state = pd.DataFrame({'subject_number':subject_number, 'state':condition})\n",
    "       \n",
    "\n",
    "        # consider all (but only) csv_angles in the subject directory\n",
    "        for csv_angles in subject.glob('**/*_angular_kinematics.csv'):\n",
    "            \n",
    "           # just like before with the subject number, we save the number of the trial in another dataframe\n",
    "           trial_str = str(csv_angles)\n",
    "           trial_number = int(trial_str[trial_str.find(\"_walk_\") + 6 : trial_str.find(\"_angular_kinematics\")])\n",
    "           df_trial_num = pd.Series(trial_number, name='trial_number')\n",
    "\n",
    "           #read csv_angles file and delete three first rows (missing info) and the fourth row (units)\n",
    "           csv_ang = pd.read_excel(csv_angles, engine='xlrd')\n",
    "           csv_ang.drop([0, 1, 2, 3, 4], inplace=True)\n",
    "\n",
    "           #delete time and frame columns\n",
    "           csv_ang.drop(csv_ang.columns[[0, 1]], axis = 1, inplace = True)\n",
    "\n",
    "           #set first row as dataframe header\n",
    "           #set all headers to lower letters and replace spaces and slashes with \"_\"\n",
    "           csv_ang = csv_ang[0:]\n",
    "           csv_ang.columns = angles_header\n",
    "           csv_ang.columns = csv_ang.columns.str.lower()\n",
    "           csv_ang.reset_index(drop=True, inplace=True)\n",
    "\n",
    "           #calculate range of motion (ROM) for each joint and set values as a df\n",
    "           #the ROM is calculated as the maximum registered angle minus the minimum one\n",
    "           #rom = csv_ang.max() - csv_ang.min()\n",
    "           #df_rom = pd.DataFrame([rom.values], columns=csv_ang.columns)\n",
    "\n",
    "           # concatenate the three created databases: subject number, state and ROMS\n",
    "           # the name of this database is df_angles\n",
    "           df_trial = pd.concat([df_num_state, df_trial_num, csv_ang], axis=1)\n",
    "           df_angles = pd.concat([df_angles, df_trial], ignore_index=True)\n",
    "\n",
    "\n",
    "        # Repeat process for spatiotemporal parameters\n",
    "        for csv_spatiotemporal in subject.glob('**/*_temporal_distance.txt'):\n",
    "\n",
    "            # just like before we save the number of the trial in another dataframe\n",
    "            trial_str = str(csv_spatiotemporal)\n",
    "            trial_number = int(trial_str[trial_str.find(\"_walk_\") + 6 : trial_str.find(\"_temporal_distance\")])\n",
    "            df_trial_num = pd.Series(trial_number, name='trial_number')\n",
    "\n",
    "            # read the trajectories csv seting the correct separator. \n",
    "            # Drop unuseful columns. Fix format. Reset index after. \n",
    "            csv_spat = pd.read_csv(csv_spatiotemporal, sep = '\\t')\n",
    "            csv_spat.drop([1, 2, 3], inplace=True)\n",
    "            csv_spat.drop(csv_spat.columns[[0]], axis = 1, inplace = True)\n",
    "            csv_spat.reset_index(drop=True, inplace=True)\n",
    "            csv_spat.columns = csv_spat.iloc[0].str.lower()\n",
    "            csv_spat = csv_spat[1:].reset_index(drop=True)\n",
    "\n",
    "            # concatenate the three created databases: subject number, state, trial and spatiotemporal parameters\n",
    "            # the name of this database is df_spatiotemporal\n",
    "            df_spat = pd.concat([df_num_state, df_trial_num, csv_spat], axis=1)\n",
    "            df_spatiotemporal = pd.concat([df_spatiotemporal, df_spat], ignore_index=True)"
   ]
  },
  {
   "cell_type": "code",
   "execution_count": null,
   "id": "f6dac25f-f853-4aa6-8cfe-caa871cb58ba",
   "metadata": {},
   "outputs": [],
   "source": [
    "df_trajectories.to_csv('angular_kinematics_csv.csv', index=True)"
   ]
  }
 ],
 "metadata": {
  "kernelspec": {
   "display_name": "Python 3 (ipykernel)",
   "language": "python",
   "name": "python3"
  },
  "language_info": {
   "codemirror_mode": {
    "name": "ipython",
    "version": 3
   },
   "file_extension": ".py",
   "mimetype": "text/x-python",
   "name": "python",
   "nbconvert_exporter": "python",
   "pygments_lexer": "ipython3",
   "version": "3.11.5"
  }
 },
 "nbformat": 4,
 "nbformat_minor": 5
}
